{
 "cells": [
  {
   "cell_type": "markdown",
   "metadata": {
    "slideshow": {
     "slide_type": "slide"
    }
   },
   "source": [
    "# Entwicklung einer REST-API mit FastAPI\n",
    "**Ziel:** Einführung in FastAPI für Python-Entwickler\n",
    "**Dauer:** 50 Minuten"
   ]
  },
  {
   "cell_type": "markdown",
   "metadata": {
    "slideshow": {
     "slide_type": "Sub-Slide"
    }
   },
   "source": [
    "## Agenda\n",
    "- Einführung in APIs\n",
    "- REST-Konzept und HTTP-Methoden\n",
    "- FastAPI-Grundlagen\n",
    "- Validierung mit Pydantic\n",
    "- Endpoint-Beispiele\n",
    "- Testen mit Postman"
   ]
  },
  {
   "cell_type": "markdown",
   "metadata": {
    "slideshow": {
     "slide_type": "Slide"
    }
   },
   "source": [
    "## Was ist eine API?\n",
    "- **Application Programming Interface**\n",
    "- Schnittstelle zur Kommunikation zwischen Softwarekomponenten\n",
    "- Beispiel: Wetterdaten abfragen, Bezahlvorgänge, Social-Media-Integrationen"
   ]
  },
  {
   "cell_type": "markdown",
   "metadata": {
    "slideshow": {
     "slide_type": "Sub-Slide"
    }
   },
   "source": [
    "### REST-API: Das Konzept\n",
    "- **REpresentational State Transfer (REST)**\n",
    "- Architekturstil für verteilte Systeme\n",
    "- **Prinzipien:**\n",
    "  - Zustandslosigkeit\n",
    "  - Ressourcenorientierung (URLs als eindeutige IDs)\n",
    "  - Standard-HTTP-Methoden (GET, POST, PUT, DELETE)"
   ]
  },
  {
   "cell_type": "markdown",
   "metadata": {
    "slideshow": {
     "slide_type": "Slide"
    }
   },
   "source": [
    "## HTTP-Methoden im Detail\n",
    "- **GET:** Daten abrufen (z.B. `/items`)\n",
    "- **POST:** Neue Ressource erstellen (z.B. `/items`)\n",
    "- **PUT:** Ressource vollständig aktualisieren (z.B. `/items/{id}`)\n",
    "- **DELETE:** Ressource löschen (z.B. `/items/{id}`)"
   ]
  },
  {
   "cell_type": "markdown",
   "metadata": {
    "slideshow": {
     "slide_type": "Fragment"
    }
   },
   "source": [
    "**Beispiel-URLs:**\n",
    "- `GET /items` → Liste aller Artikel\n",
    "- `GET /items/42` → Artikel mit ID 42\n",
    "- `POST /items` → Neuen Artikel anlegen\n",
    "- `PUT /items/42` → Artikel 42 aktualisieren"
   ]
  },
  {
   "cell_type": "markdown",
   "metadata": {
    "slideshow": {
     "slide_type": "Slide"
    }
   },
   "source": [
    "## FastAPI: Warum?\n",
    "- **Schnell:** ASGI-basiert (asynchrone Verarbeitung)\n",
    "- **Einfach:** Automatische Dokumentation (Swagger/Redoc)\n",
    "- **Modern:** Integration mit Pydantic für Validierung\n",
    "- **Python-Typhinting:** Code-Vorhersage und Fehlervermeidung"
   ]
  },
  {
   "cell_type": "markdown",
   "metadata": {
    "slideshow": {
     "slide_type": "Sub-Slide"
    }
   },
   "source": [
    "### Installation\n",
    "```bash\n",
    "pip install fastapi uvicorn\n",
    "```\n",
    "**UVicorn:** ASGI-Server zum Ausführen der API"
   ]
  },
  {
   "cell_type": "markdown",
   "metadata": {
    "slideshow": {
     "slide_type": "Slide"
    }
   },
   "source": [
    "## Grundgerüst einer FastAPI-Anwendung\n",
    "```python\n",
    "from fastapi import FastAPI\n",
    "app = FastAPI()\n",
    "\n",
    "@app.get(\"/\")\n",
    "def read_root():\n",
    "    return {\"message\": \"Hello World\"}\n",
    "```\n",
    "**Starten des Servers:**\n",
    "```bash\n",
    "uvicorn main:app --reload\n",
    "```"
   ]
  },
  {
   "cell_type": "markdown",
   "metadata": {
    "slideshow": {
     "slide_type": "Sub-Slide"
    }
   },
   "source": [
    "### Beispiel: GET-Endpoint mit Validierung\n",
    "```python\n",
    "from fastapi import Path\n",
    "\n",
    "@app.get(\"/items/{item_id}\")\n",
    "def read_item(item_id: int = Path(..., ge=1)):\n",
    "    return {\"item_id\": item_id}\n",
    "```\n",
    "- `Path(..., ge=1)`: Validierung für `item_id ≥ 1`"
   ]
  },
  {
   "cell_type": "markdown",
   "metadata": {
    "slideshow": {
     "slide_type": "Slide"
    }
   },
   "source": [
    "## Pydantic: Datenvalidierung\n",
    "- **Datenmodelle** definieren die Struktur der Ein-/Ausgaben\n",
    "```python\n",
    "from pydantic import BaseModel\n",
    "\n",
    "class Item(BaseModel):\n",
    "    name: str\n",
    "    price: float\n",
    "    category: str\n",
    "```"
   ]
  },
  {
   "cell_type": "markdown",
   "metadata": {
    "slideshow": {
     "slide_type": "Fragment"
    }
   },
   "source": [
    "### Verwendung im Endpoint\n",
    "```python\n",
    "@app.post(\"/items/\")\n",
    "def create_item(item: Item):\n",
    "    items[item.id] = item\n",
    "    return item\n",
    "```\n",
    "- FastAPI validiert automatisch den Request-Body gegen das `Item`-Modell."
   ]
  },
  {
   "cell_type": "markdown",
   "metadata": {
    "slideshow": {
     "slide_type": "Slide"
    }
   },
   "source": [
    "## Beispiel: Vollständiger CRUD-Endpoint\n",
    "```python\n",
    "items = {}\n",
    "\n",
    "@app.post(\"/items/\")\n",
    "def create_item(item: Item):\n",
    "    items[item.id] = item\n",
    "    return item\n",
    "\n",
    "@app.get(\"/items/{item_id}\")\n",
    "def read_item(item_id: int):\n",
    "    return items[item_id]\n",
    "```"
   ]
  },
  {
   "cell_type": "markdown",
   "metadata": {
    "slideshow": {
     "slide_type": "Sub-Slide"
    }
   },
   "source": [
    "### Fehlerbehandlung\n",
    "```python\n",
    "from fastapi import HTTPException\n",
    "\n",
    "@app.get(\"/items/{item_id}\")\n",
    "def read_item(item_id: int):\n",
    "    if item_id not in items:\n",
    "        raise HTTPException(status_code=404, detail=\"Item not found\")\n",
    "    return items[item_id]\n",
    "```"
   ]
  },
  {
   "cell_type": "markdown",
   "metadata": {
    "slideshow": {
     "slide_type": "Slide"
    }
   },
   "source": [
    "## Testen mit Postman\n",
    "1. **GET-Request:** `http://localhost:8000/items/42`\n",
    "2. **POST-Request:** Body (JSON) an `http://localhost:8000/items/` senden\n",
    "3. **Response validieren:** Statuscode, JSON-Daten\n",
    "\n",
    "**Beispiel-POST-Body:**\n",
    "```json\n",
    "{\n",
    "    \"name\": \"Laptop\",\n",
    "    \"price\": 999.99,\n",
    "    \"category\": \"Electronics\"\n",
    "}\n",
    "```"
   ]
  },
  {
   "cell_type": "markdown",
   "metadata": {
    "slideshow": {
     "slide_type": "Sub-Slide"
    }
   },
   "source": [
    "### Automatische Dokumentation\n",
    "- **Swagger UI:** `http://localhost:8000/docs`\n",
    "- **Redoc:** `http://localhost:8000/redoc`\n",
    "- Testen Sie Endpoints direkt im Browser!"
   ]
  },
  {
   "cell_type": "markdown",
   "metadata": {
    "slideshow": {
     "slide_type": "Slide"
    }
   },
   "source": [
    "## Zusammenfassung\n",
    "- FastAPI vereinfacht API-Entwicklung durch Typhinting und Pydantic\n",
    "- REST-Prinzipien ermöglichen klare Struktur\n",
    "- Testen mit Postman oder integrierter Dokumentation\n",
    "\n",
    "**Nächste Schritte:**\n",
    "- Datenbankanbindung (z.B. SQLAlchemy)\n",
    "- Authentifizierung (OAuth2)\n",
    "- Deployment mit Docker"
   ]
  },
  {
   "cell_type": "markdown",
   "metadata": {
    "slideshow": {
     "slide_type": "Notes"
    }
   },
   "source": [
    "**Sprechernotizen:**\n",
    "- Betonen, dass FastAPI für Anfänger geeignet ist, aber auch skalierbar bleibt.\n",
    "- Auf Fragen zu komplexeren Validierungen (z.B. Regex) eingehen.\n",
    "- Praktische Übung: Eigenen GET/POST-Endpoint erstellen."
   ]
  }
 ],
 "metadata": {
  "kernelspec": {
   "display_name": "Python 3",
   "language": "python",
   "name": "python3"
  },
  "language_info": {
   "codemirror_mode": {
    "name": "ipython",
    "version": 3
   },
   "file_extension": ".py",
   "mimetype": "text/x-python",
   "name": "python",
   "nbconvert_exporter": "python",
   "pygments_lexer": "ipython3",
   "version": "3.9.6"
  }
 },
 "nbformat": 4,
 "nbformat_minor": 4
}
